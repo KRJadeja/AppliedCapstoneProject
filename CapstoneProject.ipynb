{
 "cells": [
  {
   "cell_type": "code",
   "execution_count": 3,
   "metadata": {},
   "outputs": [
    {
     "data": {
      "text/html": [
       "<div>\n",
       "<style scoped>\n",
       "    .dataframe tbody tr th:only-of-type {\n",
       "        vertical-align: middle;\n",
       "    }\n",
       "\n",
       "    .dataframe tbody tr th {\n",
       "        vertical-align: top;\n",
       "    }\n",
       "\n",
       "    .dataframe thead th {\n",
       "        text-align: right;\n",
       "    }\n",
       "</style>\n",
       "<table border=\"1\" class=\"dataframe\">\n",
       "  <thead>\n",
       "    <tr style=\"text-align: right;\">\n",
       "      <th></th>\n",
       "      <th>online_order</th>\n",
       "      <th>book_table</th>\n",
       "      <th>rate</th>\n",
       "      <th>votes</th>\n",
       "      <th>location</th>\n",
       "      <th>rest_type</th>\n",
       "      <th>cuisines</th>\n",
       "      <th>average_cost</th>\n",
       "    </tr>\n",
       "  </thead>\n",
       "  <tbody>\n",
       "    <tr>\n",
       "      <th>0</th>\n",
       "      <td>Yes</td>\n",
       "      <td>Yes</td>\n",
       "      <td>4.1/5</td>\n",
       "      <td>775</td>\n",
       "      <td>Banashankari</td>\n",
       "      <td>Casual Dining</td>\n",
       "      <td>North Indian, Mughlai, Chinese</td>\n",
       "      <td>800</td>\n",
       "    </tr>\n",
       "    <tr>\n",
       "      <th>1</th>\n",
       "      <td>Yes</td>\n",
       "      <td>No</td>\n",
       "      <td>4.1/5</td>\n",
       "      <td>787</td>\n",
       "      <td>Banashankari</td>\n",
       "      <td>Casual Dining</td>\n",
       "      <td>Chinese, North Indian, Thai</td>\n",
       "      <td>800</td>\n",
       "    </tr>\n",
       "    <tr>\n",
       "      <th>2</th>\n",
       "      <td>Yes</td>\n",
       "      <td>No</td>\n",
       "      <td>3.8/5</td>\n",
       "      <td>918</td>\n",
       "      <td>Banashankari</td>\n",
       "      <td>Cafe, Casual Dining</td>\n",
       "      <td>Cafe, Mexican, Italian</td>\n",
       "      <td>800</td>\n",
       "    </tr>\n",
       "    <tr>\n",
       "      <th>3</th>\n",
       "      <td>No</td>\n",
       "      <td>No</td>\n",
       "      <td>3.7/5</td>\n",
       "      <td>88</td>\n",
       "      <td>Banashankari</td>\n",
       "      <td>Quick Bites</td>\n",
       "      <td>South Indian, North Indian</td>\n",
       "      <td>300</td>\n",
       "    </tr>\n",
       "    <tr>\n",
       "      <th>4</th>\n",
       "      <td>No</td>\n",
       "      <td>No</td>\n",
       "      <td>3.8/5</td>\n",
       "      <td>166</td>\n",
       "      <td>Basavanagudi</td>\n",
       "      <td>Casual Dining</td>\n",
       "      <td>North Indian, Rajasthani</td>\n",
       "      <td>600</td>\n",
       "    </tr>\n",
       "  </tbody>\n",
       "</table>\n",
       "</div>"
      ],
      "text/plain": [
       "  online_order book_table   rate  votes      location            rest_type  \\\n",
       "0          Yes        Yes  4.1/5    775  Banashankari        Casual Dining   \n",
       "1          Yes         No  4.1/5    787  Banashankari        Casual Dining   \n",
       "2          Yes         No  3.8/5    918  Banashankari  Cafe, Casual Dining   \n",
       "3           No         No  3.7/5     88  Banashankari          Quick Bites   \n",
       "4           No         No  3.8/5    166  Basavanagudi        Casual Dining   \n",
       "\n",
       "                         cuisines average_cost  \n",
       "0  North Indian, Mughlai, Chinese          800  \n",
       "1     Chinese, North Indian, Thai          800  \n",
       "2          Cafe, Mexican, Italian          800  \n",
       "3      South Indian, North Indian          300  \n",
       "4        North Indian, Rajasthani          600  "
      ]
     },
     "execution_count": 3,
     "metadata": {},
     "output_type": "execute_result"
    }
   ],
   "source": [
    "import numpy as np\n",
    "import matplotlib.pyplot as plt\n",
    "import seaborn as sns\n",
    "import pandas as pd\n",
    "\n",
    "from sklearn.model_selection import train_test_split # Import train_test_split function\n",
    "from sklearn import metrics\n",
    "\n",
    "#Load dataset\n",
    "data = pd.read_csv(\"C:\\\\Users\\\\KJadeja\\\\zomato.csv\")\n",
    "\n",
    "#Printing first 5 records\n",
    "data.head()\n",
    "\n",
    "#Change name\n",
    "data.rename(columns={\"approx_cost(for two people)\":\"average_cost\"},inplace=True)\n",
    "#Drop non-required columns\n",
    "data.drop(columns=['url','name','address','phone','dish_liked','reviews_list','menu_item','listed_in(city)','listed_in(type)'], inplace  =True)\n",
    "\n",
    "data.head()\n",
    "\n"
   ]
  },
  {
   "cell_type": "code",
   "execution_count": 4,
   "metadata": {},
   "outputs": [
    {
     "data": {
      "text/html": [
       "<div>\n",
       "<style scoped>\n",
       "    .dataframe tbody tr th:only-of-type {\n",
       "        vertical-align: middle;\n",
       "    }\n",
       "\n",
       "    .dataframe tbody tr th {\n",
       "        vertical-align: top;\n",
       "    }\n",
       "\n",
       "    .dataframe thead th {\n",
       "        text-align: right;\n",
       "    }\n",
       "</style>\n",
       "<table border=\"1\" class=\"dataframe\">\n",
       "  <thead>\n",
       "    <tr style=\"text-align: right;\">\n",
       "      <th></th>\n",
       "      <th>online_order</th>\n",
       "      <th>book_table</th>\n",
       "      <th>rate</th>\n",
       "      <th>votes</th>\n",
       "      <th>location</th>\n",
       "      <th>rest_type</th>\n",
       "      <th>cuisines</th>\n",
       "      <th>average_cost</th>\n",
       "    </tr>\n",
       "  </thead>\n",
       "  <tbody>\n",
       "    <tr>\n",
       "      <th>0</th>\n",
       "      <td>1</td>\n",
       "      <td>1</td>\n",
       "      <td>4.1</td>\n",
       "      <td>775</td>\n",
       "      <td>1</td>\n",
       "      <td>38</td>\n",
       "      <td>1246</td>\n",
       "      <td>800.0</td>\n",
       "    </tr>\n",
       "    <tr>\n",
       "      <th>1</th>\n",
       "      <td>1</td>\n",
       "      <td>0</td>\n",
       "      <td>4.1</td>\n",
       "      <td>787</td>\n",
       "      <td>1</td>\n",
       "      <td>38</td>\n",
       "      <td>1259</td>\n",
       "      <td>800.0</td>\n",
       "    </tr>\n",
       "    <tr>\n",
       "      <th>2</th>\n",
       "      <td>1</td>\n",
       "      <td>0</td>\n",
       "      <td>3.8</td>\n",
       "      <td>918</td>\n",
       "      <td>1</td>\n",
       "      <td>30</td>\n",
       "      <td>1052</td>\n",
       "      <td>800.0</td>\n",
       "    </tr>\n",
       "    <tr>\n",
       "      <th>3</th>\n",
       "      <td>0</td>\n",
       "      <td>0</td>\n",
       "      <td>3.7</td>\n",
       "      <td>88</td>\n",
       "      <td>1</td>\n",
       "      <td>27</td>\n",
       "      <td>1570</td>\n",
       "      <td>300.0</td>\n",
       "    </tr>\n",
       "    <tr>\n",
       "      <th>4</th>\n",
       "      <td>0</td>\n",
       "      <td>0</td>\n",
       "      <td>3.8</td>\n",
       "      <td>166</td>\n",
       "      <td>4</td>\n",
       "      <td>38</td>\n",
       "      <td>1612</td>\n",
       "      <td>600.0</td>\n",
       "    </tr>\n",
       "  </tbody>\n",
       "</table>\n",
       "</div>"
      ],
      "text/plain": [
       "   online_order  book_table  rate  votes  location  rest_type  cuisines  \\\n",
       "0             1           1   4.1    775         1         38      1246   \n",
       "1             1           0   4.1    787         1         38      1259   \n",
       "2             1           0   3.8    918         1         30      1052   \n",
       "3             0           0   3.7     88         1         27      1570   \n",
       "4             0           0   3.8    166         4         38      1612   \n",
       "\n",
       "   average_cost  \n",
       "0         800.0  \n",
       "1         800.0  \n",
       "2         800.0  \n",
       "3         300.0  \n",
       "4         600.0  "
      ]
     },
     "execution_count": 4,
     "metadata": {},
     "output_type": "execute_result"
    }
   ],
   "source": [
    "# data transformation\n",
    "data['rate'] = data['rate'].replace('NEW',np.NaN)\n",
    "data['rate'] = data['rate'].replace('-',np.NaN)\n",
    "data.dropna(how = 'any', inplace = True)\n",
    "data['rate'] = data.loc[:,'rate'].replace('[ ]','',regex = True)\n",
    "data['rate'] = data['rate'].astype(str)\n",
    "data['rate'] = data['rate'].apply(lambda r: r.replace('/5',''))\n",
    "data['rate'] = data['rate'].apply(lambda r: float(r))\n",
    "\n",
    "cuisines_data = data[data.cuisines.notnull()]\n",
    "cuisines_data.cuisines = cuisines_data.cuisines.apply(lambda x:x.lower().strip())\n",
    "cuisines_count= []\n",
    "\n",
    "for i in cuisines_data.cuisines:\n",
    "    for j in i.split(','):\n",
    "        j = j.strip()\n",
    "        cuisines_count.append(j)\n",
    "        \n",
    "data['online_order']= pd.get_dummies(data.online_order, drop_first=True)\n",
    "data['book_table']= pd.get_dummies(data.book_table, drop_first=True)\n",
    "\n",
    "data['rest_type'] = data['rest_type'].str.replace(',' , '') \n",
    "data['rest_type'] = data['rest_type'].astype(str).apply(lambda x: ' '.join(sorted(x.split())))\n",
    "data['cuisines'] = data['cuisines'].str.replace(',' , '') \n",
    "data['cuisines'] = data['cuisines'].astype(str).apply(lambda x: ' '.join(sorted(x.split())))\n",
    "\n",
    "#label encoding\n",
    "from sklearn.preprocessing import LabelEncoder\n",
    "T = LabelEncoder()                 \n",
    "data['location'] = T.fit_transform(data['location'])\n",
    "data['rest_type'] = T.fit_transform(data['rest_type'])\n",
    "data['cuisines'] = T.fit_transform(data['cuisines'])\n",
    "data['average_cost'] = data['average_cost'].str.replace(',' , '') \n",
    "data[\"average_cost\"] = data[\"average_cost\"].astype('float')\n",
    "\n",
    "data.head()\n"
   ]
  },
  {
   "cell_type": "code",
   "execution_count": 5,
   "metadata": {},
   "outputs": [
    {
     "data": {
      "image/png": "[encoded data removed]",
      "text/plain": [
       "<Figure size 432x288 with 2 Axes>"
      ]
     },
     "metadata": {
      "needs_background": "light"
     },
     "output_type": "display_data"
    }
   ],
   "source": [
    "#seaborn heatmap function to plot the correlation grid\n",
    "sns.heatmap(data.corr(), annot = True, cmap = \"viridis\",linecolor='white',linewidths=1)\n",
    "plt.show()"
   ]
  },
  {
   "cell_type": "code",
   "execution_count": 6,
   "metadata": {},
   "outputs": [
    {
     "name": "stdout",
     "output_type": "stream",
     "text": [
      "Training Accuracy 98.72455474844595\n",
      "Testing Accuracy 94.41417080472017\n",
      "R-2 score :  0.9441417080472017\n",
      "online_order  :  0.017061092917437872\n",
      "book_table  :  0.018469150587698838\n",
      "votes  :  0.5333945194046853\n",
      "location  :  0.1125447925776877\n",
      "rest_type  :  0.06539466228059591\n",
      "cuisines  :  0.1589800087811641\n",
      "average_cost  :  0.09415577345073049\n"
     ]
    },
    {
     "data": {
      "text/plain": [
       "<BarContainer object of 7 artists>"
      ]
     },
     "execution_count": 6,
     "metadata": {},
     "output_type": "execute_result"
    },
    {
     "data": {
      "image/png": "[encoded data removed]",
      "text/plain": [
       "<Figure size 432x288 with 1 Axes>"
      ]
     },
     "metadata": {
      "needs_background": "light"
     },
     "output_type": "display_data"
    }
   ],
   "source": [
    "#Set target variable\n",
    "x = data.drop(columns=['rate'])\n",
    "y = data['rate']\n",
    "\n",
    "#standarizing\n",
    "#taking numeric values\n",
    "from sklearn.preprocessing import StandardScaler\n",
    "\n",
    "num_values1=data.select_dtypes(['float64','int64']).columns\n",
    "scaler = StandardScaler()\n",
    "scaler.fit(data[num_values1])\n",
    "data[num_values1]=scaler.transform(data[num_values1])\n",
    "\n",
    "data.head()\n",
    "\n",
    "\n",
    "from sklearn import metrics\n",
    "from sklearn.ensemble import RandomForestRegressor\n",
    "from sklearn import tree\n",
    "from sklearn.model_selection import train_test_split\n",
    "from matplotlib import pyplot\n",
    "\n",
    "#train & test split\n",
    "X_train,X_test,y_train,y_test = train_test_split(x,y,test_size = 0.1,random_state = 0)\n",
    "\n",
    "#rfr = RandomForestRegressor(n_estimators=20,max_depth=5)\n",
    "#Fit the model\n",
    "rfr = RandomForestRegressor(n_estimators=10)\n",
    "rfr.fit(X_train,y_train)\n",
    "\n",
    "#predicted y-value\n",
    "y_pred = rfr.predict(X_test)\n",
    "#training accuracy\n",
    "tra=rfr.score(X_train,y_train)*100\n",
    "#test accuracy\n",
    "tea=rfr.score(X_test,y_test)*100\n",
    "\n",
    "print(\"Training Accuracy\",tra)\n",
    "print(\"Testing Accuracy\",tea)\n",
    "\n",
    "#R-square value\n",
    "from sklearn.metrics import r2_score\n",
    "\n",
    "rsquarevalue = r2_score(y_test, y_pred) \n",
    "print(\"R-2 score : \", rsquarevalue) \n",
    "\n",
    "# get importance\n",
    "importance = rfr.feature_importances_\n",
    "\n",
    "# summarize feature importance\n",
    "for i,v in enumerate(importance):\n",
    "    #print('Feature: %0d, Score: %.5f' % (i,v))\n",
    "    print(x.columns[i],' : ',v)\n",
    "    \n",
    "# plot feature importance\n",
    "plt.barh(x.columns, rfr.feature_importances_)"
   ]
  },
  {
   "cell_type": "code",
   "execution_count": 8,
   "metadata": {},
   "outputs": [
    {
     "name": "stdout",
     "output_type": "stream",
     "text": [
      "Test data Spearman correlation: 0.973\n",
      "Test data Pearson correlation: 0.972\n",
      "Root-Mean-Square Error (RMSE): 0.2313510204169978\n"
     ]
    }
   ],
   "source": [
    "\"\"\"\n",
    "import statsmodels.api as sm\n",
    "from statsmodels.sandbox.regression.predstd import wls_prediction_std\n",
    "from scipy import stats\n",
    "\n",
    "model1=sm.OLS(X_train,y_train)\n",
    "result=model1.fit()\n",
    "#print(result.summary())\n",
    "print(\"pvalues\\n\",result.pvalues)\n",
    "print(\"tvalues\\n\",result.tvalues)\n",
    "print(\"rsquared\\n\",result.rsquared)\n",
    "print(\"rsquared_adj\\n\",result.rsquared_adj)\n",
    "\"\"\"\n",
    "\n",
    "#spearman and pearson corelation value\n",
    "from scipy.stats import spearmanr, pearsonr \n",
    "\n",
    "spearman = spearmanr(y_test, y_pred) \n",
    "pearson = pearsonr(y_test, y_pred) \n",
    "print(f'Test data Spearman correlation: {spearman[0]:.3}') \n",
    "print(f'Test data Pearson correlation: {pearson[0]:.3}') \n",
    "\n",
    "#RMSE\n",
    "from sklearn.metrics import mean_squared_error \n",
    "from sklearn.preprocessing import MinMaxScaler \n",
    "\n",
    "mse=mean_squared_error(y_test,y_pred) \n",
    "rmse=np.sqrt(mse) \n",
    "print('Root-Mean-Square Error (RMSE):',rmse) \n"
   ]
  },
  {
   "cell_type": "code",
   "execution_count": 9,
   "metadata": {
    "scrolled": true
   },
   "outputs": [
    {
     "name": "stdout",
     "output_type": "stream",
     "text": [
      "MAE: -0.102 (0.004)\n"
     ]
    }
   ],
   "source": [
    "# evaluate the model \n",
    "from numpy import mean \n",
    "from numpy import std \n",
    "from sklearn.model_selection import cross_val_score \n",
    "from sklearn.model_selection import RepeatedKFold \n",
    " \n",
    "cv = RepeatedKFold(n_splits=10, n_repeats=3, random_state=1) \n",
    "n_scores = cross_val_score(rfr, x, y, scoring='neg_mean_absolute_error', cv=cv, n_jobs=-1, error_score='raise') \n",
    "\n",
    "# report performance \n",
    "print('MAE: %.3f (%.3f)' % (mean(n_scores), std(n_scores))) \n"
   ]
  },
  {
   "cell_type": "code",
   "execution_count": null,
   "metadata": {},
   "outputs": [],
   "source": [
    "\n"
   ]
  },
  {
   "cell_type": "code",
   "execution_count": null,
   "metadata": {},
   "outputs": [],
   "source": []
  },
  {
   "cell_type": "code",
   "execution_count": null,
   "metadata": {},
   "outputs": [],
   "source": []
  }
 ],
 "metadata": {
  "kernelspec": {
   "display_name": "Python 3",
   "language": "python",
   "name": "python3"
  },
  "language_info": {
   "codemirror_mode": {
    "name": "ipython",
    "version": 3
   },
   "file_extension": ".py",
   "mimetype": "text/x-python",
   "name": "python",
   "nbconvert_exporter": "python",
   "pygments_lexer": "ipython3",
   "version": "3.8.3"
  }
 },
 "nbformat": 4,
 "nbformat_minor": 4
}
